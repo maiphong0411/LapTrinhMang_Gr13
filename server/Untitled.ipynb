{
 "cells": [
  {
   "cell_type": "code",
   "execution_count": 1,
   "id": "caf58cbd-69cd-4239-bc6b-7b9cf060a066",
   "metadata": {},
   "outputs": [],
   "source": [
    "import socket\n",
    "import pickle\n",
    "import selectors\n",
    "import types\n",
    "\n",
    "from account import *\n",
    "from config import *\n",
    "from search import *"
   ]
  },
  {
   "cell_type": "code",
   "execution_count": 2,
   "id": "dbb56c65-7b99-4418-ab62-42de85a5f5d1",
   "metadata": {},
   "outputs": [],
   "source": [
    "tree = create_tree()"
   ]
  },
  {
   "cell_type": "code",
   "execution_count": 3,
   "id": "146021a7-851f-4a31-a7be-b780b7672739",
   "metadata": {},
   "outputs": [
    {
     "name": "stdout",
     "output_type": "stream",
     "text": [
      "Node('/data', title='root')\n",
      "├── Node('/data/1', title='#INDEX 1')\n",
      "│   ├── Node('/data/1/11', title='#INDEX 11')\n",
      "│   └── Node('/data/1/12', title='#INDEX 12')\n",
      "├── Node('/data/2', title='#INDEX 2')\n",
      "├── Node('/data/3', title='#INDEX 3')\n",
      "│   ├── Node('/data/3/31', title='#INDEX 31')\n",
      "│   └── Node('/data/3/32', title='#INDEX 32')\n",
      "│       ├── Node('/data/3/32/321', title='#INDEX 321')\n",
      "│       └── Node('/data/3/32/322', title='#INDEX 322')\n",
      "├── Node('/data/4', title='#INDEX 4')\n",
      "├── Node('/data/5', title='#INDEX 5')\n",
      "├── Node('/data/6', title='6')\n",
      "└── Node('/data/69', title='Hướng dẫn gửi câu hỏi tới Phòng Đào tạo (các vấn đề về học tập, học phí)')\n"
     ]
    }
   ],
   "source": [
    "print(RenderTree(tree))"
   ]
  },
  {
   "cell_type": "code",
   "execution_count": 6,
   "id": "1024eaa2-a670-49b5-99db-b91f9ea08d63",
   "metadata": {},
   "outputs": [
    {
     "data": {
      "text/plain": [
       "[110,\n",
       " [],\n",
       " [(None, 'root'),\n",
       "  ('1', '#INDEX 1'),\n",
       "  ('2', '#INDEX 2'),\n",
       "  ('3', '#INDEX 3'),\n",
       "  ('4', '#INDEX 4'),\n",
       "  ('5', '#INDEX 5'),\n",
       "  ('6', '6'),\n",
       "  ('69',\n",
       "   'Hướng dẫn gửi câu hỏi tới Phòng Đào tạo (các vấn đề về học tập, học phí)')]]"
      ]
     },
     "execution_count": 6,
     "metadata": {},
     "output_type": "execute_result"
    }
   ],
   "source": [
    "data = search_for_index(tree, DIR)\n",
    "pickle.loads(data)"
   ]
  },
  {
   "cell_type": "code",
   "execution_count": null,
   "id": "0101a4de-3339-420f-8912-a83596a35701",
   "metadata": {},
   "outputs": [],
   "source": []
  }
 ],
 "metadata": {
  "kernelspec": {
   "display_name": "Rectinet",
   "language": "python",
   "name": "rectinet"
  },
  "language_info": {
   "codemirror_mode": {
    "name": "ipython",
    "version": 3
   },
   "file_extension": ".py",
   "mimetype": "text/x-python",
   "name": "python",
   "nbconvert_exporter": "python",
   "pygments_lexer": "ipython3",
   "version": "3.8.5"
  }
 },
 "nbformat": 4,
 "nbformat_minor": 5
}
