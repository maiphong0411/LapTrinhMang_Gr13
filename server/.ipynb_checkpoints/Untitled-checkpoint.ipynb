{
 "cells": [
  {
   "cell_type": "code",
   "execution_count": 29,
   "id": "fb152498-367a-4b65-9439-09520e91c093",
   "metadata": {},
   "outputs": [
    {
     "name": "stdout",
     "output_type": "stream",
     "text": [
      "Socket successfully created\n"
     ]
    }
   ],
   "source": [
    "try:\n",
    "    s = socket.socket(socket.AF_INET, socket.SOCK_STREAM)\n",
    "    print (\"Socket successfully created\")\n",
    "except socket.error as err:\n",
    "    print (\"socket creation failed with error %s\" %(err))\n",
    "\n",
    "PORT = 80"
   ]
  },
  {
   "cell_type": "code",
   "execution_count": 9,
   "id": "29d8a578-f98d-46ee-b33f-bd89809edf06",
   "metadata": {},
   "outputs": [],
   "source": [
    "import sqlite3 as sql\n",
    "import socket\n",
    "import bcrypt\n",
    "import pickle"
   ]
  },
  {
   "cell_type": "code",
   "execution_count": 17,
   "id": "3613e9eb-72f9-458a-8724-fc7d12696a89",
   "metadata": {},
   "outputs": [],
   "source": [
    "from account import *"
   ]
  },
  {
   "cell_type": "code",
   "execution_count": 24,
   "id": "a1d67084-8f1e-4c7c-b911-1b614a1fd44b",
   "metadata": {},
   "outputs": [],
   "source": [
    "data = pickle.dumps(['20184218', '20184218'])"
   ]
  },
  {
   "cell_type": "code",
   "execution_count": 25,
   "id": "f6b2f506-c4b0-449d-98a7-38bfddeb1bfd",
   "metadata": {},
   "outputs": [],
   "source": [
    "status = get_login_status(data)"
   ]
  },
  {
   "cell_type": "code",
   "execution_count": 26,
   "id": "dec55347-6723-4581-a9bb-923fb1d7a02c",
   "metadata": {},
   "outputs": [
    {
     "data": {
      "text/plain": [
       "[200, 'Success']"
      ]
     },
     "execution_count": 26,
     "metadata": {},
     "output_type": "execute_result"
    }
   ],
   "source": [
    "pickle.loads(status)"
   ]
  },
  {
   "cell_type": "code",
   "execution_count": 27,
   "id": "3635fa2f-0863-419f-a6ca-fbf897916408",
   "metadata": {},
   "outputs": [],
   "source": [
    "data = pickle.dumps(['20184218', '20184218'])"
   ]
  },
  {
   "cell_type": "code",
   "execution_count": 28,
   "id": "181333cf-72ed-4e33-9dcc-2ee2c53dfbcb",
   "metadata": {},
   "outputs": [],
   "source": [
    "status = get_change_password_status(data)"
   ]
  },
  {
   "cell_type": "code",
   "execution_count": 29,
   "id": "a331b833-1d65-4cba-9110-fe8a5871b555",
   "metadata": {},
   "outputs": [
    {
     "data": {
      "text/plain": [
       "[200, 'Success']"
      ]
     },
     "execution_count": 29,
     "metadata": {},
     "output_type": "execute_result"
    }
   ],
   "source": [
    "pickle.loads(status)"
   ]
  },
  {
   "cell_type": "code",
   "execution_count": null,
   "id": "331400ec-cb88-468b-8b4d-4875a6da11dd",
   "metadata": {},
   "outputs": [],
   "source": []
  },
  {
   "cell_type": "code",
   "execution_count": null,
   "id": "ebc32c1f-0f70-42b9-9835-13cb150352b8",
   "metadata": {},
   "outputs": [],
   "source": []
  }
 ],
 "metadata": {
  "kernelspec": {
   "display_name": "Python 3 (ipykernel)",
   "language": "python",
   "name": "python3"
  },
  "language_info": {
   "codemirror_mode": {
    "name": "ipython",
    "version": 3
   },
   "file_extension": ".py",
   "mimetype": "text/x-python",
   "name": "python",
   "nbconvert_exporter": "python",
   "pygments_lexer": "ipython3",
   "version": "3.8.5"
  }
 },
 "nbformat": 4,
 "nbformat_minor": 5
}
