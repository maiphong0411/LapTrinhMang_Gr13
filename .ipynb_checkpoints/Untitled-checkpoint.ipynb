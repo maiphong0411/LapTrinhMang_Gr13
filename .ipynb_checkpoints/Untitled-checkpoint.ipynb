{
 "cells": [
  {
   "cell_type": "code",
   "execution_count": 3,
   "id": "29d8a578-f98d-46ee-b33f-bd89809edf06",
   "metadata": {},
   "outputs": [],
   "source": [
    "import sqlite3 as sql\n",
    "import socket\n",
    "import bcrypt"
   ]
  },
  {
   "cell_type": "code",
   "execution_count": 4,
   "id": "0fc9c45f-b694-4b87-a6bb-d54dc95b2617",
   "metadata": {},
   "outputs": [],
   "source": [
    "import os\n",
    "import pickle\n",
    "\n",
    "from anytree import Node, RenderTree, Resolver, find_by_attr, LevelOrderIter"
   ]
  },
  {
   "cell_type": "code",
   "execution_count": 39,
   "id": "e5a6f893-7998-4673-99ec-b44374e6feef",
   "metadata": {},
   "outputs": [],
   "source": [
    "def _get_node_path(node):\n",
    "    path = str(node.path[-1]).split(\"'\")[1] # Get path\n",
    "    path = path[1:] # Remove '/' at 0\n",
    "\n",
    "    return path\n",
    "\n",
    "def create_tree(data_dir='data'):\n",
    "    tree = Node(data_dir, title='root')\n",
    "    resolver = Resolver('name')\n",
    "\n",
    "    for root, dirs, files in os.walk('data'):\n",
    "        root = '/' + root.replace('\\\\', '/')\n",
    "        files = [f.split('.')[0] for f in files]\n",
    "        r = resolver.get(tree, root)\n",
    "\n",
    "        # File | Folder with file\n",
    "        for file in files:\n",
    "            node = Node(file, parent=r, title=\"Nan\")\n",
    "            path = _get_node_path(node)\n",
    "            with open(path + '.txt', 'r') as f:\n",
    "                title = f.readline().rstrip()\n",
    "                if not title:\n",
    "                    title = file\n",
    "                node.title = title\n",
    "\n",
    "        # Folder only\n",
    "        for folder in set(dirs)-set(files):\n",
    "            node = Node(folder, parent=r, title=folder)\n",
    "\n",
    "    # Remove emtpy folder\n",
    "    for i in LevelOrderIter(tree):\n",
    "        path = _get_node_path(i)\n",
    "        if os.path.isdir(path) and not os.listdir(path):\n",
    "            i.parent = None\n",
    "            del i\n",
    "\n",
    "    return tree\n",
    "\n",
    "def _get_subindex_list(node):\n",
    "    lst = node.children\n",
    "    lst = [(c.name, c.title) for c in lst]\n",
    "    return lst\n",
    "\n",
    "def _get_file_content(node):\n",
    "    path = _get_node_path(node) + '.txt'\n",
    "    return path\n",
    "\n",
    "def search(name):\n",
    "    pass"
   ]
  },
  {
   "cell_type": "code",
   "execution_count": 40,
   "id": "f29abb3b-c965-4993-9db6-78ace6c066b1",
   "metadata": {},
   "outputs": [
    {
     "name": "stdout",
     "output_type": "stream",
     "text": [
      "Node('/data', title='root')\n",
      "├── Node('/data/1', title='INDEX 1')\n",
      "│   ├── Node('/data/1/11', title='INDEX 11')\n",
      "│   └── Node('/data/1/12', title='INDEX 12')\n",
      "├── Node('/data/2', title='INDEX 2')\n",
      "├── Node('/data/3', title='INDEX 3')\n",
      "│   ├── Node('/data/3/31', title='INDEX 31')\n",
      "│   └── Node('/data/3/32', title='INDEX 32')\n",
      "│       ├── Node('/data/3/32/321', title='INDEX 321')\n",
      "│       └── Node('/data/3/32/322', title='INDEX 322')\n",
      "├── Node('/data/4', title='INDEX 4')\n",
      "├── Node('/data/5', title='INDEX 5')\n",
      "└── Node('/data/6', title='6')\n"
     ]
    }
   ],
   "source": [
    "tree = create_tree()\n",
    "print(RenderTree(tree))"
   ]
  },
  {
   "cell_type": "code",
   "execution_count": 41,
   "id": "d0411cf6-dd61-426e-a922-c79eaf75a22e",
   "metadata": {},
   "outputs": [],
   "source": [
    "x = _get_file_content(tree)"
   ]
  },
  {
   "cell_type": "code",
   "execution_count": 42,
   "id": "10f1ec1c-b19d-488c-aedb-025bb7f36078",
   "metadata": {},
   "outputs": [
    {
     "data": {
      "text/plain": [
       "'data.txt'"
      ]
     },
     "execution_count": 42,
     "metadata": {},
     "output_type": "execute_result"
    }
   ],
   "source": [
    "x"
   ]
  },
  {
   "cell_type": "code",
   "execution_count": null,
   "id": "54f68f53-b9ed-4aec-a981-e2ab016dc514",
   "metadata": {},
   "outputs": [],
   "source": []
  }
 ],
 "metadata": {
  "kernelspec": {
   "display_name": "Rectinet",
   "language": "python",
   "name": "rectinet"
  },
  "language_info": {
   "codemirror_mode": {
    "name": "ipython",
    "version": 3
   },
   "file_extension": ".py",
   "mimetype": "text/x-python",
   "name": "python",
   "nbconvert_exporter": "python",
   "pygments_lexer": "ipython3",
   "version": "3.8.5"
  }
 },
 "nbformat": 4,
 "nbformat_minor": 5
}
