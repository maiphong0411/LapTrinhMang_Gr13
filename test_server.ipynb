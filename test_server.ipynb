{
 "cells": [
  {
   "cell_type": "code",
   "execution_count": 9,
   "id": "a5fdf42e-7c95-4057-b943-65c570fd0af4",
   "metadata": {},
   "outputs": [
    {
     "name": "stdout",
     "output_type": "stream",
     "text": [
      "[WinError 2] The system cannot find the file specified: 'server'\n",
      "C:\\Users\\Nhay103\\Documents\\GitHub\\LapTrinhMang_Gr13\\server\n"
     ]
    }
   ],
   "source": [
    "cd server"
   ]
  },
  {
   "cell_type": "code",
   "execution_count": 10,
   "id": "0fc9c45f-b694-4b87-a6bb-d54dc95b2617",
   "metadata": {},
   "outputs": [],
   "source": [
    "from search import *\n",
    "from config import *\n",
    "from account import *"
   ]
  },
  {
   "cell_type": "code",
   "execution_count": 11,
   "id": "fe9c4a13-628e-486e-b27e-84f0bcabb7d9",
   "metadata": {},
   "outputs": [],
   "source": [
    "tree = create_tree()"
   ]
  },
  {
   "cell_type": "code",
   "execution_count": 14,
   "id": "d9696d45-21a5-4dee-b278-608f7dc83e4c",
   "metadata": {},
   "outputs": [
    {
     "name": "stdout",
     "output_type": "stream",
     "text": [
      "Node('/data', title='root')\n",
      "├── Node('/data/1', title='#INDEX 1')\n",
      "│   ├── Node('/data/1/11', title='#INDEX 11')\n",
      "│   └── Node('/data/1/12', title='#INDEX 12')\n",
      "├── Node('/data/2', title='#INDEX 2')\n",
      "├── Node('/data/3', title='#INDEX 3')\n",
      "│   ├── Node('/data/3/31', title='#INDEX 31')\n",
      "│   └── Node('/data/3/32', title='#INDEX 32')\n",
      "│       ├── Node('/data/3/32/321', title='#INDEX 321')\n",
      "│       └── Node('/data/3/32/322', title='#INDEX 322')\n",
      "├── Node('/data/4', title='#INDEX 4')\n",
      "├── Node('/data/5', title='#INDEX 5')\n",
      "└── Node('/data/6', title='6')\n"
     ]
    }
   ],
   "source": [
    "print(RenderTree(tree))"
   ]
  },
  {
   "cell_type": "code",
   "execution_count": 20,
   "id": "d16c7271-9038-424f-a7d7-4342cfa7e8bc",
   "metadata": {},
   "outputs": [
    {
     "name": "stdout",
     "output_type": "stream",
     "text": [
      "['110', [], [(None, 'root'), ('1', '#INDEX 1'), ('2', '#INDEX 2'), ('3', '#INDEX 3'), ('4', '#INDEX 4'), ('5', '#INDEX 5'), ('6', '6')]]\n"
     ]
    }
   ],
   "source": [
    "data = search_for_index(tree, DIR)\n",
    "print(pickle.loads(data))"
   ]
  },
  {
   "cell_type": "code",
   "execution_count": null,
   "id": "938b8752-01a3-4f9a-9269-0f8b89538619",
   "metadata": {},
   "outputs": [],
   "source": []
  }
 ],
 "metadata": {
  "kernelspec": {
   "display_name": "Rectinet",
   "language": "python",
   "name": "rectinet"
  },
  "language_info": {
   "codemirror_mode": {
    "name": "ipython",
    "version": 3
   },
   "file_extension": ".py",
   "mimetype": "text/x-python",
   "name": "python",
   "nbconvert_exporter": "python",
   "pygments_lexer": "ipython3",
   "version": "3.8.5"
  }
 },
 "nbformat": 4,
 "nbformat_minor": 5
}
