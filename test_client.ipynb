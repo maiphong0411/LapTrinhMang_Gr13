{
 "cells": [
  {
   "cell_type": "code",
   "execution_count": 3,
   "id": "b24661d0-d6b5-434e-91c9-9ca9c9dcb35d",
   "metadata": {},
   "outputs": [
    {
     "name": "stdout",
     "output_type": "stream",
     "text": [
      "[WinError 2] The system cannot find the file specified: 'client'\n",
      "C:\\Users\\Nhay103\\Documents\\GitHub\\LapTrinhMang_Gr13\\client\n"
     ]
    }
   ],
   "source": [
    "cd client"
   ]
  },
  {
   "cell_type": "code",
   "execution_count": 4,
   "id": "595944c3-02ef-4cdd-addf-ba855994c433",
   "metadata": {},
   "outputs": [],
   "source": [
    "import os\n",
    "import pickle"
   ]
  },
  {
   "cell_type": "code",
   "execution_count": null,
   "id": "c69d0290-0fe3-47e6-8db8-df89d603bc2d",
   "metadata": {},
   "outputs": [],
   "source": []
  }
 ],
 "metadata": {
  "kernelspec": {
   "display_name": "Rectinet",
   "language": "python",
   "name": "rectinet"
  },
  "language_info": {
   "codemirror_mode": {
    "name": "ipython",
    "version": 3
   },
   "file_extension": ".py",
   "mimetype": "text/x-python",
   "name": "python",
   "nbconvert_exporter": "python",
   "pygments_lexer": "ipython3",
   "version": "3.8.5"
  }
 },
 "nbformat": 4,
 "nbformat_minor": 5
}
